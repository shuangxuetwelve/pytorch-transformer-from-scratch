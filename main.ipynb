{
 "cells": [
  {
   "attachments": {},
   "cell_type": "markdown",
   "metadata": {},
   "source": [
    "# Transformer的PyTorch从头实现"
   ]
  },
  {
   "attachments": {},
   "cell_type": "markdown",
   "metadata": {},
   "source": [
    "此项目使用了PyTorch，请参考以下页面安装PyTorch：\n",
    "[https://pytorch.org/get-started/locally/](https://pytorch.org/get-started/locally/)\n",
    "\n",
    "除了PyTorch外，此项目还需要以下Python库：\n",
    "* torchdata\n",
    "* torchtext\n",
    "\n",
    "可以使用以下pip命令安装它们：\n",
    "```\n",
    "pip install torchtext torchdata\n",
    "```\n",
    "\n",
    "此项目使用了spaCy tokenizer，需要使用以下命令安装spaCy语言包de_core_news_sm和en_core_web_sm：\n",
    "```\n",
    "python -m spacy download de_core_news_sm\n",
    "python -m spacy download en_core_web_sm\n",
    "```"
   ]
  },
  {
   "attachments": {},
   "cell_type": "markdown",
   "metadata": {},
   "source": [
    "## 0. 依赖和常量"
   ]
  },
  {
   "attachments": {},
   "cell_type": "markdown",
   "metadata": {},
   "source": [
    "### 0.1 依赖"
   ]
  },
  {
   "cell_type": "code",
   "execution_count": 1,
   "metadata": {},
   "outputs": [],
   "source": [
    "# Python imports.\n",
    "from enum import Enum\n",
    "\n",
    "# Third-party imports.\n",
    "import torchtext"
   ]
  },
  {
   "attachments": {},
   "cell_type": "markdown",
   "metadata": {},
   "source": [
    "### 0.2 常量"
   ]
  },
  {
   "cell_type": "code",
   "execution_count": 2,
   "metadata": {},
   "outputs": [],
   "source": [
    "# Define dataset types.\n",
    "class Dataset(Enum):\n",
    "    MULTI30K = 1\n",
    "\n",
    "# Define which dataset to use.\n",
    "DATASET = Dataset.MULTI30K"
   ]
  },
  {
   "attachments": {},
   "cell_type": "markdown",
   "metadata": {},
   "source": [
    "## 1. 数据准备"
   ]
  },
  {
   "attachments": {},
   "cell_type": "markdown",
   "metadata": {},
   "source": [
    "我们使用multi30k数据集。multi30k数据集是WMT16数据集的一部分，31,014条英语和德语句子以及对应的图片。但我们只使用其中的英语和德语句子。multi30k数据集的详细介绍请参考[https://www.statmt.org/wmt16/multimodal-task.html#task1](https://www.statmt.org/wmt16/multimodal-task.html#task1)\n",
    "\n",
    "training、dev和test数据集各自的规模如下：\n",
    "* training：29,000\n",
    "* dev: 1014\n",
    "* test: 1000"
   ]
  },
  {
   "attachments": {},
   "cell_type": "markdown",
   "metadata": {},
   "source": [
    "### 1.1 辅助函数定义"
   ]
  },
  {
   "attachments": {},
   "cell_type": "markdown",
   "metadata": {},
   "source": [
    "函数display_samples打印出头部几条数据："
   ]
  },
  {
   "cell_type": "code",
   "execution_count": 12,
   "metadata": {},
   "outputs": [],
   "source": [
    "def display_samples(dataset, num):\n",
    "    iterator = iter(dataset)\n",
    "    try:\n",
    "        for i in range(num):\n",
    "            print(f'{i+1}: {next(iterator)}')\n",
    "    except StopIteration:\n",
    "        print(f'[Error] Size of dataset is smaller than {num}.')"
   ]
  },
  {
   "attachments": {},
   "cell_type": "markdown",
   "metadata": {},
   "source": [
    "### 1.2 数据加载"
   ]
  },
  {
   "attachments": {},
   "cell_type": "markdown",
   "metadata": {},
   "source": [
    "加载training、dev和test数据集。这些数据集的数据类型为torch.utils.data.datapipes.iter.grouping.ShardingFilterIterDataPipe。"
   ]
  },
  {
   "cell_type": "code",
   "execution_count": 15,
   "metadata": {},
   "outputs": [],
   "source": [
    "training, dev, text = torchtext.datasets.Multi30k()"
   ]
  },
  {
   "cell_type": "code",
   "execution_count": 16,
   "metadata": {},
   "outputs": [
    {
     "name": "stdout",
     "output_type": "stream",
     "text": [
      "1: ('Zwei junge weiße Männer sind im Freien in der Nähe vieler Büsche.', 'Two young, White males are outside near many bushes.')\n",
      "2: ('Mehrere Männer mit Schutzhelmen bedienen ein Antriebsradsystem.', 'Several men in hard hats are operating a giant pulley system.')\n",
      "3: ('Ein kleines Mädchen klettert in ein Spielhaus aus Holz.', 'A little girl climbing into a wooden playhouse.')\n",
      "4: ('Ein Mann in einem blauen Hemd steht auf einer Leiter und putzt ein Fenster.', 'A man in a blue shirt is standing on a ladder cleaning a window.')\n",
      "5: ('Zwei Männer stehen am Herd und bereiten Essen zu.', 'Two men are at the stove preparing food.')\n"
     ]
    }
   ],
   "source": [
    "display_samples(training, 5)"
   ]
  },
  {
   "attachments": {},
   "cell_type": "markdown",
   "metadata": {},
   "source": [
    "### 1.3 数据tokenization"
   ]
  },
  {
   "cell_type": "code",
   "execution_count": 6,
   "metadata": {},
   "outputs": [],
   "source": [
    "tokenizer_de = torchtext.data.get_tokenizer('spacy', language='de_core_news_sm')\n",
    "tokenizer_en = torchtext.data.get_tokenizer('spacy', language='en_core_web_sm')\n"
   ]
  },
  {
   "cell_type": "code",
   "execution_count": 7,
   "metadata": {},
   "outputs": [
    {
     "name": "stdout",
     "output_type": "stream",
     "text": [
      "Zwei junge weiße Männer sind im Freien in der Nähe vieler Büsche. -> ['Zwei', 'junge', 'weiße', 'Männer', 'sind', 'im', 'Freien', 'in', 'der', 'Nähe', 'vieler', 'Büsche', '.']\n",
      "['I', 'do', \"n't\", 'have', 'retreat', '.']\n"
     ]
    }
   ],
   "source": [
    "iter_train = iter(train)\n",
    "sentence = next(iter_train)\n",
    "sentence_de = sentence[0]\n",
    "sentence_en = sentence[1]\n",
    "print(sentence_de + ' -> ' + str(tokenizer_de(sentence_de)))\n",
    "print(tokenizer_en('I don\\'t have retreat.'))"
   ]
  }
 ],
 "metadata": {
  "kernelspec": {
   "display_name": "Python 3",
   "language": "python",
   "name": "python3"
  },
  "language_info": {
   "codemirror_mode": {
    "name": "ipython",
    "version": 3
   },
   "file_extension": ".py",
   "mimetype": "text/x-python",
   "name": "python",
   "nbconvert_exporter": "python",
   "pygments_lexer": "ipython3",
   "version": "3.10.4"
  },
  "orig_nbformat": 4,
  "vscode": {
   "interpreter": {
    "hash": "28d349a2b51ce633eb90298c209eaf4844980ca37d4c8ff0f162257187ae6212"
   }
  }
 },
 "nbformat": 4,
 "nbformat_minor": 2
}
